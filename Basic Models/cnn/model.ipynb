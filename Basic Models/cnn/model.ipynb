{
 "cells": [
  {
   "cell_type": "code",
   "execution_count": 1,
   "metadata": {},
   "outputs": [],
   "source": [
    "import tensorflow as tf\n",
    "from keras.preprocessing.image import ImageDataGenerator"
   ]
  },
  {
   "cell_type": "code",
   "execution_count": 2,
   "metadata": {},
   "outputs": [
    {
     "data": {
      "text/plain": [
       "'2.13.0'"
      ]
     },
     "execution_count": 2,
     "metadata": {},
     "output_type": "execute_result"
    }
   ],
   "source": [
    "tf.__version__"
   ]
  },
  {
   "cell_type": "code",
   "execution_count": 5,
   "metadata": {},
   "outputs": [
    {
     "name": "stdout",
     "output_type": "stream",
     "text": [
      "Found 8000 images belonging to 2 classes.\n"
     ]
    }
   ],
   "source": [
    "train_datagen = ImageDataGenerator(\n",
    "    rescale=1./255,\n",
    "    shear_range=0.2,\n",
    "    zoom_range=0.2,\n",
    "    horizontal_flip=True\n",
    ")\n",
    "\n",
    "training_set = train_datagen.flow_from_directory(\n",
    "    'training_set',\n",
    "    target_size=(64,64),\n",
    "    batch_size=32,\n",
    "    class_mode='binary'\n",
    ")\n",
    "\n"
   ]
  },
  {
   "cell_type": "code",
   "execution_count": 6,
   "metadata": {},
   "outputs": [
    {
     "name": "stdout",
     "output_type": "stream",
     "text": [
      "Found 2000 images belonging to 2 classes.\n"
     ]
    }
   ],
   "source": [
    "test_datagen = ImageDataGenerator(rescale=1./255)\n",
    "\n",
    "test_set = test_datagen.flow_from_directory(\n",
    "    'test_set',\n",
    "    target_size=(64,64),\n",
    "    batch_size=32,\n",
    "    class_mode='binary'\n",
    ")"
   ]
  },
  {
   "cell_type": "markdown",
   "metadata": {},
   "source": [
    "#### Model"
   ]
  },
  {
   "cell_type": "code",
   "execution_count": 7,
   "metadata": {},
   "outputs": [],
   "source": [
    "cnn = tf.keras.models.Sequential()"
   ]
  },
  {
   "cell_type": "code",
   "execution_count": 8,
   "metadata": {},
   "outputs": [],
   "source": [
    "cnn.add(tf.keras.layers.Conv2D(filters=32, kernel_size=3, activation='relu', input_shape=[64,64,3]))"
   ]
  },
  {
   "cell_type": "code",
   "execution_count": 9,
   "metadata": {},
   "outputs": [],
   "source": [
    "cnn.add(tf.keras.layers.MaxPool2D(pool_size=2, strides=2))"
   ]
  },
  {
   "cell_type": "code",
   "execution_count": 10,
   "metadata": {},
   "outputs": [],
   "source": [
    "cnn.add(tf.keras.layers.Conv2D(filters=32, kernel_size=3, activation='relu'))\n",
    "cnn.add(tf.keras.layers.MaxPool2D(pool_size=2, strides=2))"
   ]
  },
  {
   "cell_type": "code",
   "execution_count": 11,
   "metadata": {},
   "outputs": [],
   "source": [
    "cnn.add(tf.keras.layers.Flatten())"
   ]
  },
  {
   "cell_type": "code",
   "execution_count": 12,
   "metadata": {},
   "outputs": [],
   "source": [
    "cnn.add(tf.keras.layers.Dense(units=128, activation='relu'))"
   ]
  },
  {
   "cell_type": "code",
   "execution_count": 13,
   "metadata": {},
   "outputs": [],
   "source": [
    "cnn.add(tf.keras.layers.Dense(units=1, activation='sigmoid')) # sigmoid in binary, softmax in multiple classification"
   ]
  },
  {
   "cell_type": "markdown",
   "metadata": {},
   "source": [
    "#### Compiling"
   ]
  },
  {
   "cell_type": "code",
   "execution_count": 14,
   "metadata": {},
   "outputs": [],
   "source": [
    "cnn.compile(optimizer='adam', loss='binary_crossentropy', metrics=['accuracy'])"
   ]
  },
  {
   "cell_type": "code",
   "execution_count": 15,
   "metadata": {},
   "outputs": [
    {
     "name": "stdout",
     "output_type": "stream",
     "text": [
      "Epoch 1/25\n",
      "250/250 [==============================] - 91s 360ms/step - loss: 0.6847 - accuracy: 0.5437 - val_loss: 0.6369 - val_accuracy: 0.6110\n",
      "Epoch 2/25\n",
      "250/250 [==============================] - 25s 98ms/step - loss: 0.5925 - accuracy: 0.6881 - val_loss: 0.5258 - val_accuracy: 0.7340\n",
      "Epoch 3/25\n",
      "250/250 [==============================] - 24s 97ms/step - loss: 0.5321 - accuracy: 0.7287 - val_loss: 0.4915 - val_accuracy: 0.7645\n",
      "Epoch 4/25\n",
      "250/250 [==============================] - 25s 98ms/step - loss: 0.5015 - accuracy: 0.7563 - val_loss: 0.4791 - val_accuracy: 0.7800\n",
      "Epoch 5/25\n",
      "250/250 [==============================] - 25s 100ms/step - loss: 0.4867 - accuracy: 0.7653 - val_loss: 0.5051 - val_accuracy: 0.7625\n",
      "Epoch 6/25\n",
      "250/250 [==============================] - 25s 100ms/step - loss: 0.4632 - accuracy: 0.7826 - val_loss: 0.5322 - val_accuracy: 0.7450\n",
      "Epoch 7/25\n",
      "250/250 [==============================] - 25s 100ms/step - loss: 0.4539 - accuracy: 0.7859 - val_loss: 0.4505 - val_accuracy: 0.7910\n",
      "Epoch 8/25\n",
      "250/250 [==============================] - 24s 98ms/step - loss: 0.4485 - accuracy: 0.7861 - val_loss: 0.4765 - val_accuracy: 0.7750\n",
      "Epoch 9/25\n",
      "250/250 [==============================] - 25s 99ms/step - loss: 0.4385 - accuracy: 0.7974 - val_loss: 0.4566 - val_accuracy: 0.7930\n",
      "Epoch 10/25\n",
      "250/250 [==============================] - 25s 98ms/step - loss: 0.4256 - accuracy: 0.8000 - val_loss: 0.4466 - val_accuracy: 0.7965\n",
      "Epoch 11/25\n",
      "250/250 [==============================] - 25s 98ms/step - loss: 0.4022 - accuracy: 0.8106 - val_loss: 0.4559 - val_accuracy: 0.8010\n",
      "Epoch 12/25\n",
      "250/250 [==============================] - 25s 99ms/step - loss: 0.4005 - accuracy: 0.8176 - val_loss: 0.4416 - val_accuracy: 0.7995\n",
      "Epoch 13/25\n",
      "250/250 [==============================] - 25s 99ms/step - loss: 0.3901 - accuracy: 0.8202 - val_loss: 0.4715 - val_accuracy: 0.7940\n",
      "Epoch 14/25\n",
      "250/250 [==============================] - 25s 98ms/step - loss: 0.3746 - accuracy: 0.8326 - val_loss: 0.4500 - val_accuracy: 0.7980\n",
      "Epoch 15/25\n",
      "250/250 [==============================] - 25s 100ms/step - loss: 0.3712 - accuracy: 0.8330 - val_loss: 0.4348 - val_accuracy: 0.8125\n",
      "Epoch 16/25\n",
      "250/250 [==============================] - 25s 98ms/step - loss: 0.3575 - accuracy: 0.8410 - val_loss: 0.5314 - val_accuracy: 0.7815\n",
      "Epoch 17/25\n",
      "250/250 [==============================] - 25s 98ms/step - loss: 0.3399 - accuracy: 0.8478 - val_loss: 0.5072 - val_accuracy: 0.7885\n",
      "Epoch 18/25\n",
      "250/250 [==============================] - 24s 97ms/step - loss: 0.3330 - accuracy: 0.8564 - val_loss: 0.4999 - val_accuracy: 0.7945\n",
      "Epoch 19/25\n",
      "250/250 [==============================] - 24s 97ms/step - loss: 0.3229 - accuracy: 0.8580 - val_loss: 0.5056 - val_accuracy: 0.7955\n",
      "Epoch 20/25\n",
      "250/250 [==============================] - 24s 97ms/step - loss: 0.3095 - accuracy: 0.8625 - val_loss: 0.4462 - val_accuracy: 0.8210\n",
      "Epoch 21/25\n",
      "250/250 [==============================] - 24s 97ms/step - loss: 0.3079 - accuracy: 0.8681 - val_loss: 0.4366 - val_accuracy: 0.8185\n",
      "Epoch 22/25\n",
      "250/250 [==============================] - 25s 98ms/step - loss: 0.2944 - accuracy: 0.8715 - val_loss: 0.4747 - val_accuracy: 0.8030\n",
      "Epoch 23/25\n",
      "250/250 [==============================] - 25s 99ms/step - loss: 0.2882 - accuracy: 0.8733 - val_loss: 0.4741 - val_accuracy: 0.8030\n",
      "Epoch 24/25\n",
      "250/250 [==============================] - 25s 99ms/step - loss: 0.2768 - accuracy: 0.8801 - val_loss: 0.5915 - val_accuracy: 0.7875\n",
      "Epoch 25/25\n",
      "250/250 [==============================] - 25s 99ms/step - loss: 0.2628 - accuracy: 0.8876 - val_loss: 0.5098 - val_accuracy: 0.8015\n"
     ]
    },
    {
     "data": {
      "text/plain": [
       "<keras.src.callbacks.History at 0x1b8af1bb850>"
      ]
     },
     "execution_count": 15,
     "metadata": {},
     "output_type": "execute_result"
    }
   ],
   "source": [
    "cnn.fit(x = training_set,validation_data = test_set, epochs=25)"
   ]
  },
  {
   "cell_type": "code",
   "execution_count": 16,
   "metadata": {},
   "outputs": [],
   "source": [
    "import numpy as np\n",
    "from keras.preprocessing import image"
   ]
  },
  {
   "cell_type": "code",
   "execution_count": 17,
   "metadata": {},
   "outputs": [
    {
     "name": "stdout",
     "output_type": "stream",
     "text": [
      "1/1 [==============================] - 0s 114ms/step\n"
     ]
    }
   ],
   "source": [
    "test_image = image.load_img('single_prediction/cat_or_dog_1.jpg', target_size=(64, 64))\n",
    "test_image = image.img_to_array(test_image)\n",
    "test_image = np.expand_dims(test_image, axis=0)\n",
    "\n",
    "result = cnn.predict(test_image)\n",
    "training_set.class_indices\n",
    "if result[0][0] == 1:\n",
    "    prediction = 'dog'\n",
    "else:\n",
    "    prediction = 'cat'"
   ]
  },
  {
   "cell_type": "code",
   "execution_count": 18,
   "metadata": {},
   "outputs": [
    {
     "name": "stdout",
     "output_type": "stream",
     "text": [
      "dog\n"
     ]
    }
   ],
   "source": [
    "print(prediction)"
   ]
  },
  {
   "cell_type": "code",
   "execution_count": null,
   "metadata": {},
   "outputs": [],
   "source": []
  }
 ],
 "metadata": {
  "kernelspec": {
   "display_name": "Python 3",
   "language": "python",
   "name": "python3"
  },
  "language_info": {
   "codemirror_mode": {
    "name": "ipython",
    "version": 3
   },
   "file_extension": ".py",
   "mimetype": "text/x-python",
   "name": "python",
   "nbconvert_exporter": "python",
   "pygments_lexer": "ipython3",
   "version": "3.11.5"
  }
 },
 "nbformat": 4,
 "nbformat_minor": 2
}
